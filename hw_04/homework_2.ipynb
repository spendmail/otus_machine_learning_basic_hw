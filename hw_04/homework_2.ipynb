{
 "cells": [
  {
   "cell_type": "markdown",
   "metadata": {},
   "source": [
    "# <center> Homework 2 </center>"
   ]
  },
  {
   "cell_type": "code",
   "metadata": {
    "ExecuteTime": {
     "end_time": "2024-03-21T10:12:40.785947Z",
     "start_time": "2024-03-21T10:12:40.776480Z"
    }
   },
   "source": [
    "# autoreload позволяет нам подгружать изменения во внешнем коде\n",
    "# без необходимости перезагружать kernel у ноутбука\n",
    "%load_ext autoreload\n",
    "%autoreload 2"
   ],
   "outputs": [
    {
     "name": "stdout",
     "output_type": "stream",
     "text": [
      "The autoreload extension is already loaded. To reload it, use:\n",
      "  %reload_ext autoreload\n"
     ]
    }
   ],
   "execution_count": 7
  },
  {
   "cell_type": "markdown",
   "metadata": {},
   "source": [
    "## 1) Exceptions\n",
    "В модуле `exceptions` объявите следующие исключения:\n",
    "- LowFuelError\n",
    "- NotEnoughFuel\n",
    "- CargoOverload"
   ]
  },
  {
   "cell_type": "code",
   "metadata": {
    "ExecuteTime": {
     "end_time": "2024-03-21T10:12:42.986384Z",
     "start_time": "2024-03-21T10:12:42.979536Z"
    }
   },
   "source": [
    "import exceptions"
   ],
   "outputs": [],
   "execution_count": 8
  },
  {
   "cell_type": "markdown",
   "metadata": {},
   "source": [
    "## 2) Vehicle \n",
    "\n",
    "<img src=\"https://cs.pikabu.ru/images/big_size_comm/2013-12_4/13874526438897.jpg\" width=300>\n",
    "\n",
    "Доработайте базовый класс `Vehicle`:\n",
    "- добавьте атрибуты `weight`, `started`, `fuel`, `fuel_consumption` со значениями по умолчанию\n",
    "- добавьте инициализатор для установки `weight`, `fuel`, `fuel_consumption`\n",
    "- добавьте метод `start`, который, если ещё не состояние `started`, проверяет, что топлива больше нуля, \n",
    "  и обновляет состояние `started`, иначе выкидывает исключение `exceptions.LowFuelError`\n",
    "- добавьте метод `move`, который проверяет, \n",
    "  что достаточно топлива для преодоления переданной дистанции, \n",
    "  и изменяет количество оставшегося топлива, иначе выкидывает исключение `exceptions.NotEnoughFuel`"
   ]
  },
  {
   "cell_type": "code",
   "metadata": {
    "ExecuteTime": {
     "end_time": "2024-03-21T10:12:47.153053Z",
     "start_time": "2024-03-21T10:12:47.141646Z"
    }
   },
   "source": [
    "from abc import ABC\n",
    "\n",
    "\n",
    "class Vehicle(ABC):\n",
    "    weight = 0\n",
    "    fuel = 0\n",
    "    fuel_consumption = 0\n",
    "    started = False\n",
    "\n",
    "    def __init__(self, weight=0, fuel=0, fuel_consumption=0):\n",
    "\n",
    "        self.weight = weight\n",
    "        self.fuel = fuel\n",
    "        self.fuel_consumption = fuel_consumption\n",
    "\n",
    "    def start(self):\n",
    "        if not self.started:\n",
    "            if self.fuel <= 0:\n",
    "                raise exceptions.LowFuelError('Fuel must be greater than zero')\n",
    "            else:\n",
    "                self.started = True\n",
    "\n",
    "    def move(self, dist):\n",
    "        fuel_volume = self.fuel_consumption * dist\n",
    "        if self.fuel < fuel_volume:\n",
    "            raise exceptions.NotEnoughFuel('Fuel is run out')\n",
    "        else:\n",
    "            self.fuel = self.fuel - fuel_volume"
   ],
   "outputs": [],
   "execution_count": 9
  },
  {
   "cell_type": "markdown",
   "metadata": {},
   "source": [
    "## 3) Engine \n",
    "\n",
    "<img src=\"https://upload.wikimedia.org/wikipedia/commons/6/6f/National_gas_engine_%28Rankin_Kennedy%2C_Modern_Engines%2C_Vol_II%29.jpg\" width=250>\n",
    "\n",
    "Создайте датакласс `Engine`, добавьте атрибуты `volume` и `pistons`"
   ]
  },
  {
   "cell_type": "code",
   "metadata": {
    "ExecuteTime": {
     "end_time": "2024-03-21T10:12:50.425682Z",
     "start_time": "2024-03-21T10:12:50.415980Z"
    }
   },
   "source": [
    "class Engine:\n",
    "    def __init__(self, volume=0, pistons=0):\n",
    "        self.volume = volume\n",
    "        self.pistons = pistons\n"
   ],
   "outputs": [],
   "execution_count": 10
  },
  {
   "cell_type": "markdown",
   "metadata": {},
   "source": [
    "## 4) Car \n",
    "\n",
    "<img src=\"https://lh3.googleusercontent.com/proxy/RJqzSJqZFQrx7xOXimZQ4ooInGE6ViJdwz7JZZ_b__Eun-stRH2NMw47fM4je2hL1afRtmpKS9kZUVY0p2YcaZVtJ7bKRw3wWHRRa6zVUbeIb5TYLNkwx5A\" width=250>\n",
    "\n",
    "Cоздайте класс `Car`\n",
    "    - класс `Car` должен быть наследником `Vehicle`\n",
    "    - добавьте атрибут `engine` классу `Car`\n",
    "    - объявите метод `set_engine`, который принимает в себя экземпляр объекта `Engine` и устанавливает на текущий экземпляр `Car`"
   ]
  },
  {
   "cell_type": "code",
   "metadata": {
    "ExecuteTime": {
     "end_time": "2024-03-21T10:12:52.895423Z",
     "start_time": "2024-03-21T10:12:52.885649Z"
    }
   },
   "source": [
    "class Car(Vehicle):\n",
    "    engine = None\n",
    "\n",
    "    def set_engine(self, engine: Engine):\n",
    "        self.engine = engine"
   ],
   "outputs": [],
   "execution_count": 11
  },
  {
   "cell_type": "markdown",
   "metadata": {},
   "source": [
    "## 5) Plane\n",
    "\n",
    "<img src=\"http://www.weirduniverse.net/images/2017/1934parachute02.jpg\" width=250>\n",
    "\n",
    "Создайте класс `Plane`\n",
    "- класс `Plane` должен быть наследником `Vehicle`\n",
    "- добавьте атрибуты `cargo` и `max_cargo` классу `Plane`\n",
    "- добавьте `max_cargo` в инициализатор (переопределите родительский)\n",
    "- объявите метод `load_cargo`, который принимает число, проверяет, что в сумме с текущим `cargo` не будет перегруза, и обновляет значение, в ином случае выкидывает исключение `exceptions.CargoOverload`\n",
    "- объявите метод `remove_all_cargo`, который обнуляет значение `cargo` и возвращает значение `cargo`, которое было до обнуления"
   ]
  },
  {
   "cell_type": "code",
   "metadata": {
    "ExecuteTime": {
     "end_time": "2024-03-21T10:12:55.651021Z",
     "start_time": "2024-03-21T10:12:55.636883Z"
    }
   },
   "source": [
    "class Plane(Vehicle):\n",
    "    cargo = 0\n",
    "    max_cargo = 0\n",
    "\n",
    "    def __init__(self, max_cargo):\n",
    "        super().__init__()\n",
    "        self.max_cargo = max_cargo\n",
    "\n",
    "    def load_cargo(self, cargo):\n",
    "        cargo_sum = self.cargo + cargo\n",
    "        if cargo_sum > self.max_cargo:\n",
    "            raise exceptions.CargoOverload('Maximum cargo is exceeded')\n",
    "        else:\n",
    "            self.cargo = cargo_sum\n",
    "\n",
    "    def remove_all_cargo(self):\n",
    "        cargo = self.cargo\n",
    "        self.cargo = 0\n",
    "        return cargo"
   ],
   "outputs": [],
   "execution_count": 12
  }
 ],
 "metadata": {
  "kernelspec": {
   "display_name": "Python 3",
   "language": "python",
   "name": "python3"
  },
  "language_info": {
   "codemirror_mode": {
    "name": "ipython",
    "version": 3
   },
   "file_extension": ".py",
   "mimetype": "text/x-python",
   "name": "python",
   "nbconvert_exporter": "python",
   "pygments_lexer": "ipython3",
   "version": "3.7.3"
  },
  "varInspector": {
   "cols": {
    "lenName": 16,
    "lenType": 16,
    "lenVar": 40
   },
   "kernels_config": {
    "python": {
     "delete_cmd_postfix": "",
     "delete_cmd_prefix": "del ",
     "library": "var_list.py",
     "varRefreshCmd": "print(var_dic_list())"
    },
    "r": {
     "delete_cmd_postfix": ") ",
     "delete_cmd_prefix": "rm(",
     "library": "var_list.r",
     "varRefreshCmd": "cat(var_dic_list()) "
    }
   },
   "types_to_exclude": [
    "module",
    "function",
    "builtin_function_or_method",
    "instance",
    "_Feature"
   ],
   "window_display": false
  }
 },
 "nbformat": 4,
 "nbformat_minor": 2
}
